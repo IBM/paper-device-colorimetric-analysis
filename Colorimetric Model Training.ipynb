{
 "cells": [
  {
   "cell_type": "markdown",
   "metadata": {},
   "source": [
    "### Notebook for Model Training and Exporting\n",
    "\n",
    "This notebook:\n",
    "* 1- loads the calibration data from a csv file consisting of RGB values per colorimetric spot and the corresponding class\n",
    "* 2- explores the hyperparameter space to train an openCV Logistic Regression model on the colorimetric data\n",
    "* 3- exports the selected model to an XML file that can be imported into the mobile phone App and used on the colorimetric data collected in the field"
   ]
  },
  {
   "cell_type": "markdown",
   "metadata": {},
   "source": [
    "**Copyright 2020- IBM Inc. All rights reserved\n",
    "SPDX-License-Identifier: BSD-3-Clause**"
   ]
  },
  {
   "cell_type": "markdown",
   "metadata": {},
   "source": [
    "#### Import Libraries"
   ]
  },
  {
   "cell_type": "code",
   "execution_count": 1,
   "metadata": {},
   "outputs": [
    {
     "data": {
      "application/javascript": [
       "IPython.notebook.set_autosave_interval(120000)"
      ]
     },
     "metadata": {},
     "output_type": "display_data"
    },
    {
     "name": "stdout",
     "output_type": "stream",
     "text": [
      "Autosaving every 120 seconds\n"
     ]
    }
   ],
   "source": [
    "# Operating system\n",
    "import os\n",
    "from pathlib import Path\n",
    "\n",
    "# Data processing\n",
    "import pandas as pd\n",
    "import numpy as np\n",
    "\n",
    "# library to build models \n",
    "from sklearn.model_selection import train_test_split\n",
    "from sklearn.preprocessing import StandardScaler\n",
    "from sklearn import metrics\n",
    "\n",
    "import itertools\n",
    "\n",
    "# Open CV Version 4.4\n",
    "import cv2\n",
    "\n",
    "%matplotlib inline\n",
    "%autosave 120"
   ]
  },
  {
   "cell_type": "markdown",
   "metadata": {},
   "source": [
    "#### Load Calibration Data"
   ]
  },
  {
   "cell_type": "markdown",
   "metadata": {},
   "source": [
    "File and path definition"
   ]
  },
  {
   "cell_type": "code",
   "execution_count": 2,
   "metadata": {},
   "outputs": [],
   "source": [
    "# Calibration Data -- Files with data -----------------------\n",
    "\n",
    "Data_folder = Path(\"***\") #Insert your path to data folder\n",
    "\n",
    "Calib_file_to_open_BG = Data_folder / \"CalibrationData_BG.csv\"\n",
    "Calib_file_to_open_BP = Data_folder / \"CalibrationData_BP.csv\"\n",
    "\n",
    "\n",
    "# Name of files to export model\n",
    "savefilename_BP =  \"SOILSEP20_BP.xml\"\n",
    "savefilename_BG =  \"SOILSEP20_BG.xml\""
   ]
  },
  {
   "cell_type": "code",
   "execution_count": 3,
   "metadata": {},
   "outputs": [
    {
     "data": {
      "text/html": [
       "<div>\n",
       "<style scoped>\n",
       "    .dataframe tbody tr th:only-of-type {\n",
       "        vertical-align: middle;\n",
       "    }\n",
       "\n",
       "    .dataframe tbody tr th {\n",
       "        vertical-align: top;\n",
       "    }\n",
       "\n",
       "    .dataframe thead th {\n",
       "        text-align: right;\n",
       "    }\n",
       "</style>\n",
       "<table border=\"1\" class=\"dataframe\">\n",
       "  <thead>\n",
       "    <tr style=\"text-align: right;\">\n",
       "      <th></th>\n",
       "      <th>R</th>\n",
       "      <th>B</th>\n",
       "      <th>G</th>\n",
       "      <th>Class</th>\n",
       "      <th>pH</th>\n",
       "      <th>R_std</th>\n",
       "      <th>B_std</th>\n",
       "      <th>G_std</th>\n",
       "    </tr>\n",
       "  </thead>\n",
       "  <tbody>\n",
       "    <tr>\n",
       "      <th>0</th>\n",
       "      <td>106.471489</td>\n",
       "      <td>76.027084</td>\n",
       "      <td>106.281227</td>\n",
       "      <td>0</td>\n",
       "      <td>3.4</td>\n",
       "      <td>8.080424</td>\n",
       "      <td>5.923917</td>\n",
       "      <td>5.572097</td>\n",
       "    </tr>\n",
       "    <tr>\n",
       "      <th>1</th>\n",
       "      <td>113.196025</td>\n",
       "      <td>73.857769</td>\n",
       "      <td>109.753036</td>\n",
       "      <td>0</td>\n",
       "      <td>3.4</td>\n",
       "      <td>9.216805</td>\n",
       "      <td>6.825532</td>\n",
       "      <td>6.741241</td>\n",
       "    </tr>\n",
       "    <tr>\n",
       "      <th>2</th>\n",
       "      <td>107.770870</td>\n",
       "      <td>77.055856</td>\n",
       "      <td>106.962039</td>\n",
       "      <td>0</td>\n",
       "      <td>3.5</td>\n",
       "      <td>8.451906</td>\n",
       "      <td>6.670146</td>\n",
       "      <td>5.677071</td>\n",
       "    </tr>\n",
       "    <tr>\n",
       "      <th>3</th>\n",
       "      <td>107.784614</td>\n",
       "      <td>76.703508</td>\n",
       "      <td>109.346665</td>\n",
       "      <td>0</td>\n",
       "      <td>3.5</td>\n",
       "      <td>8.514350</td>\n",
       "      <td>6.999120</td>\n",
       "      <td>5.692544</td>\n",
       "    </tr>\n",
       "    <tr>\n",
       "      <th>4</th>\n",
       "      <td>113.367287</td>\n",
       "      <td>77.232398</td>\n",
       "      <td>111.999227</td>\n",
       "      <td>0</td>\n",
       "      <td>3.5</td>\n",
       "      <td>7.281277</td>\n",
       "      <td>5.799860</td>\n",
       "      <td>5.601136</td>\n",
       "    </tr>\n",
       "  </tbody>\n",
       "</table>\n",
       "</div>"
      ],
      "text/plain": [
       "            R          B           G  Class   pH     R_std     B_std     G_std\n",
       "0  106.471489  76.027084  106.281227      0  3.4  8.080424  5.923917  5.572097\n",
       "1  113.196025  73.857769  109.753036      0  3.4  9.216805  6.825532  6.741241\n",
       "2  107.770870  77.055856  106.962039      0  3.5  8.451906  6.670146  5.677071\n",
       "3  107.784614  76.703508  109.346665      0  3.5  8.514350  6.999120  5.692544\n",
       "4  113.367287  77.232398  111.999227      0  3.5  7.281277  5.799860  5.601136"
      ]
     },
     "execution_count": 3,
     "metadata": {},
     "output_type": "execute_result"
    }
   ],
   "source": [
    "df_data_BP = pd.read_csv(Calib_file_to_open_BP)\n",
    "df_data_BG = pd.read_csv(Calib_file_to_open_BG)\n",
    "df_data_BG.head()"
   ]
  },
  {
   "cell_type": "markdown",
   "metadata": {},
   "source": [
    "#### Function Definition"
   ]
  },
  {
   "cell_type": "markdown",
   "metadata": {},
   "source": [
    "Cross Validation OpenCV Function "
   ]
  },
  {
   "cell_type": "code",
   "execution_count": 4,
   "metadata": {},
   "outputs": [],
   "source": [
    "def CVLR_cross_val(model, DF, features, label, split_size, Nb, scaled=False, verbose=False):\n",
    "    X = np.asarray(DF[features])    \n",
    "    y = np.asarray(DF[label]).ravel()\n",
    "    if scaled:\n",
    "        X = StandardScaler().fit_transform(X.astype(float))\n",
    "        \n",
    "    scores_array = np.ones([Nb])\n",
    "  \n",
    "    for testNb in range(Nb):\n",
    "#         if verbose: print('\\t\\t\\t running case = ', testNb, ' of ', Nb)\n",
    "        cv_X_train, cv_X_test, cv_y_train, cv_y_test = train_test_split(X, y, test_size=split_size, shuffle=True)\n",
    "        model.train(cv_X_train.astype(np.float32), cv2.ml.ROW_SAMPLE, cv_y_train.astype(np.float32))\n",
    "        \n",
    "        ret, cv_yhat = model.predict(cv_X_test.astype(np.float32))\n",
    "        curr_score = metrics.accuracy_score(cv_y_test, cv_yhat)\n",
    "#         if verbose: print('\\t\\t\\t\\t\\t score = ', np.round(curr_score,3))\n",
    "        scores_array[testNb] = curr_score\n",
    "        \n",
    "    Final_score = np.mean(scores_array) \n",
    "    if verbose: print('\\t\\t Training Mean Score = ', np.round(Final_score,3),'\\n')\n",
    "\n",
    "    return Final_score \n",
    "   "
   ]
  },
  {
   "cell_type": "code",
   "execution_count": 5,
   "metadata": {},
   "outputs": [],
   "source": [
    "def cv_lr_build(model, DF, features, label, split_size, Nb, scaled=False, verbose=False):\n",
    "    X = np.asarray(DF[features])    \n",
    "    y = np.asarray(DF[label]).ravel()\n",
    "    if scaled:\n",
    "        X = StandardScaler().fit_transform(X.astype(float))\n",
    "\n",
    "    model.train(X.astype(np.float32), cv2.ml.ROW_SAMPLE, y.astype(np.float32))\n",
    "    ret, cv_yhat = model.predict(X.astype(np.float32))\n",
    "    Final_score = metrics.accuracy_score(y, cv_yhat)\n",
    "\n",
    "    if verbose: print('\\t\\t Training Mean Score = ', np.round(Final_score,3),'\\n')\n",
    "\n",
    "    return model, Final_score   "
   ]
  },
  {
   "cell_type": "markdown",
   "metadata": {},
   "source": [
    "Grid search over parameter space"
   ]
  },
  {
   "cell_type": "code",
   "execution_count": 6,
   "metadata": {},
   "outputs": [],
   "source": [
    "def cv_lr_SearchGrid(data, label, SearchGrid, verbose=False):\n",
    "    \n",
    "    cv_lr_gridScore = np.zeros(len(SearchGrid), dtype='f8')\n",
    "    \n",
    "    for case in range(len(SearchGrid)):\n",
    "        #display case number and model parameters\n",
    "        if verbose: print('case Nb:', case, '\\n' , 'method:', SearchGrid[case][0], ', batch:', SearchGrid[case][1],\n",
    "                          ', iterations: ', SearchGrid[case][2], '\\n', 'rate:', SearchGrid[case][3],', reg:', SearchGrid[case][4])\n",
    "        \n",
    "        #Initialize model\n",
    "        cv_lr = cv2.ml.LogisticRegression_create()\n",
    "        #Define parameters\n",
    "        cv_lr.setTrainMethod(eval(SearchGrid[case][0]))\n",
    "        cv_lr.setMiniBatchSize(SearchGrid[case][1])\n",
    "        cv_lr.setTermCriteria((cv2.TermCriteria_MAX_ITER + cv2.TermCriteria_EPS, SearchGrid[case][2], 1e-9))\n",
    "        cv_lr.setLearningRate(SearchGrid[case][3])\n",
    "        cv_lr.setRegularization(eval(SearchGrid[case][4]))          \n",
    "\n",
    "        #Train model\n",
    "        try:\n",
    "            LR_acc = CVLR_cross_val(cv_lr, data,features, label, split_size=SearchGrid[case][5], Nb=SearchGrid[case][6], scaled=False, verbose=verbose)\n",
    "            cv_lr_gridScore[case] = LR_acc\n",
    "        except:\n",
    "            if verbose: print('model calibration did not converge\\n')\n",
    "            cv_lr_gridScore[case] = 0\n",
    "            \n",
    "    return cv_lr_gridScore"
   ]
  },
  {
   "cell_type": "markdown",
   "metadata": {},
   "source": [
    "#### Define Features and search parameter space"
   ]
  },
  {
   "cell_type": "markdown",
   "metadata": {},
   "source": [
    "Features and label "
   ]
  },
  {
   "cell_type": "code",
   "execution_count": 7,
   "metadata": {},
   "outputs": [],
   "source": [
    "features = ['R', 'G', 'B']\n",
    "label = ['Class']"
   ]
  },
  {
   "cell_type": "markdown",
   "metadata": {},
   "source": [
    "Hyperparameters to sweep during model training"
   ]
  },
  {
   "cell_type": "code",
   "execution_count": 8,
   "metadata": {},
   "outputs": [],
   "source": [
    "TrainingMethods= ['cv2.ml.LogisticRegression_MINI_BATCH' , 'cv2.ml.LogisticRegression_BATCH']  \n",
    "BatchSize = [10, 5, 1] \n",
    "NbIterations = [100000, 1000000]\n",
    "Regularization = ['cv2.ml.LogisticRegression_REG_DISABLE', 'cv2.ml.LogisticRegression_REG_L2']\n",
    "LearningRate = [0.1, 0.01, 0.001,  0.0001,  0.000001]\n",
    "# LearningRate = [0.1, 0.05, 0.01, 0.002, 0.001, 0.0005,   0.0001, 0.00001, 0.000001]\n",
    "\n",
    "crossValSize = 0.25\n",
    "crossValNb = 4"
   ]
  },
  {
   "cell_type": "code",
   "execution_count": 9,
   "metadata": {},
   "outputs": [
    {
     "name": "stdout",
     "output_type": "stream",
     "text": [
      "Nb cases to search: 120\n"
     ]
    }
   ],
   "source": [
    "SearchGrid = list(itertools.product(TrainingMethods,BatchSize,NbIterations,LearningRate,Regularization))\n",
    "SearchGrid = [list(tup)+[crossValSize] for tup in SearchGrid]\n",
    "SearchGrid = [list(tup)+[crossValNb] for tup in SearchGrid]\n",
    "print('Nb cases to search:', len(SearchGrid))"
   ]
  },
  {
   "cell_type": "markdown",
   "metadata": {},
   "source": [
    "### Train Models"
   ]
  },
  {
   "cell_type": "markdown",
   "metadata": {},
   "source": [
    "Search hyperparameters over the parameter space defined above"
   ]
  },
  {
   "cell_type": "markdown",
   "metadata": {},
   "source": [
    "BG Data"
   ]
  },
  {
   "cell_type": "code",
   "execution_count": 10,
   "metadata": {
    "scrolled": true
   },
   "outputs": [],
   "source": [
    "cv_lr_gridScore_BG  = cv_lr_SearchGrid(df_data_BG, label, SearchGrid, verbose = False)"
   ]
  },
  {
   "cell_type": "code",
   "execution_count": 11,
   "metadata": {
    "scrolled": true
   },
   "outputs": [
    {
     "data": {
      "text/plain": [
       "array([0.        , 0.        , 1.        , 1.        , 1.        ,\n",
       "       1.        , 1.        , 1.        , 1.        , 1.        ,\n",
       "       0.        , 0.        , 1.        , 1.        , 1.        ,\n",
       "       1.        , 1.        , 1.        , 1.        , 1.        ,\n",
       "       0.        , 0.        , 1.        , 1.        , 1.        ,\n",
       "       1.        , 1.        , 1.        , 1.        , 1.        ,\n",
       "       0.        , 0.        , 1.        , 1.        , 1.        ,\n",
       "       1.        , 1.        , 1.        , 1.        , 1.        ,\n",
       "       0.        , 0.        , 0.        , 0.        , 1.        ,\n",
       "       0.99831081, 1.        , 1.        , 1.        , 1.        ,\n",
       "       0.        , 0.        , 0.        , 0.        , 1.        ,\n",
       "       0.99493243, 1.        , 1.        , 1.        , 1.        ,\n",
       "       1.        , 1.        , 1.        , 1.        , 0.78547297,\n",
       "       0.74155405, 0.72804054, 0.76182432, 0.69425676, 0.74324324,\n",
       "       1.        , 1.        , 1.        , 1.        , 0.79560811,\n",
       "       0.77871622, 0.71621622, 0.72297297, 0.72128378, 0.73817568,\n",
       "       1.        , 1.        , 1.        , 1.        , 0.72297297,\n",
       "       0.75168919, 0.72804054, 0.73141892, 0.73310811, 0.75337838,\n",
       "       1.        , 1.        , 1.        , 1.        , 0.7652027 ,\n",
       "       0.77027027, 0.72466216, 0.73648649, 0.72972973, 0.71790541,\n",
       "       1.        , 1.        , 1.        , 1.        , 0.80574324,\n",
       "       0.77533784, 0.74831081, 0.74324324, 0.71452703, 0.72804054,\n",
       "       1.        , 1.        , 1.        , 1.        , 0.75168919,\n",
       "       0.77027027, 0.73986486, 0.71621622, 0.73648649, 0.72635135])"
      ]
     },
     "execution_count": 11,
     "metadata": {},
     "output_type": "execute_result"
    }
   ],
   "source": [
    "cv_lr_gridScore_BG"
   ]
  },
  {
   "cell_type": "markdown",
   "metadata": {},
   "source": [
    "BP Data"
   ]
  },
  {
   "cell_type": "code",
   "execution_count": 12,
   "metadata": {
    "scrolled": true
   },
   "outputs": [],
   "source": [
    "cv_lr_gridScore_BP  = cv_lr_SearchGrid(df_data_BP, label, SearchGrid, verbose = False)"
   ]
  },
  {
   "cell_type": "code",
   "execution_count": 13,
   "metadata": {
    "scrolled": true
   },
   "outputs": [
    {
     "data": {
      "text/plain": [
       "array([0.        , 0.        , 1.        , 1.        , 1.        ,\n",
       "       1.        , 1.        , 1.        , 0.9084507 , 0.90669014,\n",
       "       0.        , 0.        , 1.        , 1.        , 1.        ,\n",
       "       1.        , 1.        , 1.        , 0.99823944, 0.99471831,\n",
       "       0.        , 0.        , 1.        , 1.        , 1.        ,\n",
       "       1.        , 1.        , 1.        , 0.95246479, 0.94190141,\n",
       "       0.        , 0.        , 1.        , 1.        , 1.        ,\n",
       "       1.        , 1.        , 1.        , 0.99647887, 0.99647887,\n",
       "       0.        , 0.        , 0.        , 0.        , 1.        ,\n",
       "       0.97183099, 1.        , 1.        , 0.99471831, 0.98943662,\n",
       "       0.        , 0.        , 0.        , 0.        , 1.        ,\n",
       "       1.        , 1.        , 0.99471831, 1.        , 1.        ,\n",
       "       0.99647887, 0.99647887, 0.96302817, 0.96302817, 0.81866197,\n",
       "       0.81338028, 0.83626761, 0.81866197, 0.82746479, 0.82570423,\n",
       "       0.99647887, 0.99647887, 0.9471831 , 0.9471831 , 0.83978873,\n",
       "       0.82042254, 0.80809859, 0.82746479, 0.83274648, 0.82922535,\n",
       "       1.        , 0.99471831, 0.94014085, 0.96302817, 0.80633803,\n",
       "       0.84330986, 0.81161972, 0.81514085, 0.82394366, 0.79753521,\n",
       "       0.99119718, 0.99647887, 0.94542254, 0.94014085, 0.83978873,\n",
       "       0.84683099, 0.8221831 , 0.83274648, 0.85739437, 0.82570423,\n",
       "       0.99119718, 0.99295775, 0.93485915, 0.95774648, 0.82394366,\n",
       "       0.82042254, 0.84859155, 0.81690141, 0.8556338 , 0.8415493 ,\n",
       "       0.98943662, 0.99471831, 0.95950704, 0.96302817, 0.84507042,\n",
       "       0.8221831 , 0.83978873, 0.82570423, 0.86091549, 0.82042254])"
      ]
     },
     "execution_count": 13,
     "metadata": {},
     "output_type": "execute_result"
    }
   ],
   "source": [
    "cv_lr_gridScore_BP "
   ]
  },
  {
   "cell_type": "markdown",
   "metadata": {},
   "source": [
    "#### Final model selection based on performance on separate testing dataset not externalized"
   ]
  },
  {
   "cell_type": "markdown",
   "metadata": {},
   "source": [
    "Building final model with selected parameters"
   ]
  },
  {
   "cell_type": "markdown",
   "metadata": {},
   "source": [
    "BP data"
   ]
  },
  {
   "cell_type": "code",
   "execution_count": 14,
   "metadata": {},
   "outputs": [
    {
     "name": "stdout",
     "output_type": "stream",
     "text": [
      "\t\t Training Mean Score =  1.0 \n",
      "\n"
     ]
    }
   ],
   "source": [
    "#Initialize model\n",
    "cv_lr = cv2.ml.LogisticRegression_create()\n",
    "#Define parameters\n",
    "cv_lr.setTrainMethod(cv2.ml.LogisticRegression_MINI_BATCH)\n",
    "cv_lr.setMiniBatchSize(10)\n",
    "cv_lr.setTermCriteria((cv2.TermCriteria_MAX_ITER + cv2.TermCriteria_EPS, 10000000, 1e-9))\n",
    "cv_lr.setLearningRate(0.000001)\n",
    "cv_lr.setRegularization(cv2.ml.LogisticRegression_REG_L2)          \n",
    "\n",
    "\n",
    "#Train model\n",
    "cv_lr_BP, Final_score_BP = cv_lr_build(cv_lr, df_data_BP,features, label, split_size=crossValSize, Nb=crossValNb, scaled=False, verbose=True)\n"
   ]
  },
  {
   "cell_type": "markdown",
   "metadata": {},
   "source": [
    "BG data"
   ]
  },
  {
   "cell_type": "code",
   "execution_count": 15,
   "metadata": {},
   "outputs": [
    {
     "name": "stdout",
     "output_type": "stream",
     "text": [
      "\t\t Training Mean Score =  1.0 \n",
      "\n"
     ]
    }
   ],
   "source": [
    "#Initialize model\n",
    "cv_lr = cv2.ml.LogisticRegression_create()\n",
    "#Define parameters\n",
    "cv_lr.setTrainMethod(cv2.ml.LogisticRegression_MINI_BATCH)\n",
    "cv_lr.setMiniBatchSize(5)\n",
    "cv_lr.setTermCriteria((cv2.TermCriteria_MAX_ITER + cv2.TermCriteria_EPS, 1000000, 1e-9))\n",
    "cv_lr.setLearningRate(0.0001)\n",
    "cv_lr.setRegularization(cv2.ml.LogisticRegression_REG_L2)          \n",
    "\n",
    "#Train model\n",
    "cv_lr_BG, Final_score_BG = cv_lr_build(cv_lr, df_data_BG,features, label, split_size=crossValSize, Nb=crossValNb, scaled=False, verbose=True)\n"
   ]
  },
  {
   "cell_type": "markdown",
   "metadata": {},
   "source": [
    "### Saving models"
   ]
  },
  {
   "cell_type": "code",
   "execution_count": 16,
   "metadata": {},
   "outputs": [
    {
     "name": "stdout",
     "output_type": "stream",
     "text": [
      "Saving model for BG data ...\n",
      "Saving model for BP data ...\n"
     ]
    }
   ],
   "source": [
    "print('Saving model for BG data ...')\n",
    "cv_lr_BG.save(savefilename_BG)\n",
    "\n",
    "print('Saving model for BP data ...')\n",
    "cv_lr_BP.save(savefilename_BP)"
   ]
  },
  {
   "cell_type": "code",
   "execution_count": null,
   "metadata": {},
   "outputs": [],
   "source": []
  }
 ],
 "metadata": {
  "kernelspec": {
   "display_name": "Python 3",
   "language": "python",
   "name": "python3"
  },
  "language_info": {
   "codemirror_mode": {
    "name": "ipython",
    "version": 3
   },
   "file_extension": ".py",
   "mimetype": "text/x-python",
   "name": "python",
   "nbconvert_exporter": "python",
   "pygments_lexer": "ipython3",
   "version": "3.8.5"
  }
 },
 "nbformat": 4,
 "nbformat_minor": 2
}
